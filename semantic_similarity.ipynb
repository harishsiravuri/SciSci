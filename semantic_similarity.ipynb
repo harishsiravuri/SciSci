{
 "cells": [
  {
   "cell_type": "code",
   "execution_count": 1,
   "metadata": {},
   "outputs": [],
   "source": [
    "import pandas as pd\n",
    "import numpy as np\n",
    "from math import sqrt, log\n",
    "from collections import defaultdict\n",
    "from itertools import chain, product"
   ]
  },
  {
   "cell_type": "code",
   "execution_count": 2,
   "metadata": {},
   "outputs": [],
   "source": [
    "def vectorize(sentence, vocabulary):\n",
    "    result = [sentence.split().count(i) for i in vocabulary]\n",
    "    return result\n",
    "\n",
    "def convert_words_to_vectors(sentence):\n",
    "    vectorized_sentence = []\n",
    "    vocabulary = sorted(set(chain(*[words.lower().split() for words in sentence])))\n",
    "    for words in sentence:\n",
    "        vectorized_sentence.append((words, vectorize(words, vocabulary)))\n",
    "    return vectorized_sentence, vocabulary\n",
    "\n",
    "def dot_product_of_vectors(vector_one, vector_two):\n",
    "    result = np.dot(vector_one, vector_two) / (sqrt(np.dot(vector_one, vector_one)) * sqrt(np.dot(vector_two, vector_two)))\n",
    "    return result\n",
    "\n",
    "def cosine_sim(sentence_one, sentence_two):\n",
    "    sentences = [sentence_one, sentence_two]\n",
    "    corpus, vocabulary = convert_words_to_vectors(sentences)\n",
    "    similarity = [dot_product_of_vectors(a[1], b[1]) for a, b in product(corpus, corpus)]\n",
    "    return similarity[1]"
   ]
  },
  {
   "cell_type": "code",
   "execution_count": 4,
   "metadata": {},
   "outputs": [
    {
     "data": {
      "text/html": [
       "<div>\n",
       "<style scoped>\n",
       "    .dataframe tbody tr th:only-of-type {\n",
       "        vertical-align: middle;\n",
       "    }\n",
       "\n",
       "    .dataframe tbody tr th {\n",
       "        vertical-align: top;\n",
       "    }\n",
       "\n",
       "    .dataframe thead th {\n",
       "        text-align: right;\n",
       "    }\n",
       "</style>\n",
       "<table border=\"1\" class=\"dataframe\">\n",
       "  <thead>\n",
       "    <tr style=\"text-align: right;\">\n",
       "      <th></th>\n",
       "      <th>abstract</th>\n",
       "      <th>review</th>\n",
       "    </tr>\n",
       "  </thead>\n",
       "  <tbody>\n",
       "    <tr>\n",
       "      <th>0</th>\n",
       "      <td>Neural networks are vulnerable to adversarial ...</td>\n",
       "      <td>This paper proposes a principled methodology t...</td>\n",
       "    </tr>\n",
       "    <tr>\n",
       "      <th>1</th>\n",
       "      <td>Neural networks are vulnerable to adversarial ...</td>\n",
       "      <td>This paper applies recently developed ideas in...</td>\n",
       "    </tr>\n",
       "    <tr>\n",
       "      <th>2</th>\n",
       "      <td>Neural networks are vulnerable to adversarial ...</td>\n",
       "      <td>In this very good paper, the objective is to p...</td>\n",
       "    </tr>\n",
       "    <tr>\n",
       "      <th>3</th>\n",
       "      <td>In this paper, we present a layer-wise learnin...</td>\n",
       "      <td>This paper proposes a learning method (PIB) ba...</td>\n",
       "    </tr>\n",
       "    <tr>\n",
       "      <th>4</th>\n",
       "      <td>In this paper, we present a layer-wise learnin...</td>\n",
       "      <td>This paper presents a new way of training stoc...</td>\n",
       "    </tr>\n",
       "  </tbody>\n",
       "</table>\n",
       "</div>"
      ],
      "text/plain": [
       "                                            abstract  \\\n",
       "0  Neural networks are vulnerable to adversarial ...   \n",
       "1  Neural networks are vulnerable to adversarial ...   \n",
       "2  Neural networks are vulnerable to adversarial ...   \n",
       "3  In this paper, we present a layer-wise learnin...   \n",
       "4  In this paper, we present a layer-wise learnin...   \n",
       "\n",
       "                                              review  \n",
       "0  This paper proposes a principled methodology t...  \n",
       "1  This paper applies recently developed ideas in...  \n",
       "2  In this very good paper, the objective is to p...  \n",
       "3  This paper proposes a learning method (PIB) ba...  \n",
       "4  This paper presents a new way of training stoc...  "
      ]
     },
     "execution_count": 4,
     "metadata": {},
     "output_type": "execute_result"
    }
   ],
   "source": [
    "raw_data = pd.read_csv('peer_reviews.csv')\n",
    "raw_data = raw_data[['abstract', 'review']].copy()\n",
    "raw_data.head()"
   ]
  },
  {
   "cell_type": "code",
   "execution_count": 13,
   "metadata": {},
   "outputs": [],
   "source": [
    "raw_data[\"similarity_score\"] = np.nan\n",
    "raw_data['similarity_score'] = raw_data.apply(lambda x: cosine_sim(x['abstract'], x['review']), axis=1)"
   ]
  },
  {
   "cell_type": "code",
   "execution_count": 14,
   "metadata": {},
   "outputs": [
    {
     "data": {
      "text/html": [
       "<div>\n",
       "<style scoped>\n",
       "    .dataframe tbody tr th:only-of-type {\n",
       "        vertical-align: middle;\n",
       "    }\n",
       "\n",
       "    .dataframe tbody tr th {\n",
       "        vertical-align: top;\n",
       "    }\n",
       "\n",
       "    .dataframe thead th {\n",
       "        text-align: right;\n",
       "    }\n",
       "</style>\n",
       "<table border=\"1\" class=\"dataframe\">\n",
       "  <thead>\n",
       "    <tr style=\"text-align: right;\">\n",
       "      <th></th>\n",
       "      <th>abstract</th>\n",
       "      <th>review</th>\n",
       "      <th>similarity_score</th>\n",
       "    </tr>\n",
       "  </thead>\n",
       "  <tbody>\n",
       "    <tr>\n",
       "      <th>0</th>\n",
       "      <td>Neural networks are vulnerable to adversarial ...</td>\n",
       "      <td>This paper proposes a principled methodology t...</td>\n",
       "      <td>0.476387</td>\n",
       "    </tr>\n",
       "    <tr>\n",
       "      <th>1</th>\n",
       "      <td>Neural networks are vulnerable to adversarial ...</td>\n",
       "      <td>This paper applies recently developed ideas in...</td>\n",
       "      <td>0.403208</td>\n",
       "    </tr>\n",
       "    <tr>\n",
       "      <th>2</th>\n",
       "      <td>Neural networks are vulnerable to adversarial ...</td>\n",
       "      <td>In this very good paper, the objective is to p...</td>\n",
       "      <td>0.441847</td>\n",
       "    </tr>\n",
       "    <tr>\n",
       "      <th>3</th>\n",
       "      <td>In this paper, we present a layer-wise learnin...</td>\n",
       "      <td>This paper proposes a learning method (PIB) ba...</td>\n",
       "      <td>0.737839</td>\n",
       "    </tr>\n",
       "    <tr>\n",
       "      <th>4</th>\n",
       "      <td>In this paper, we present a layer-wise learnin...</td>\n",
       "      <td>This paper presents a new way of training stoc...</td>\n",
       "      <td>0.752842</td>\n",
       "    </tr>\n",
       "  </tbody>\n",
       "</table>\n",
       "</div>"
      ],
      "text/plain": [
       "                                            abstract  \\\n",
       "0  Neural networks are vulnerable to adversarial ...   \n",
       "1  Neural networks are vulnerable to adversarial ...   \n",
       "2  Neural networks are vulnerable to adversarial ...   \n",
       "3  In this paper, we present a layer-wise learnin...   \n",
       "4  In this paper, we present a layer-wise learnin...   \n",
       "\n",
       "                                              review  similarity_score  \n",
       "0  This paper proposes a principled methodology t...          0.476387  \n",
       "1  This paper applies recently developed ideas in...          0.403208  \n",
       "2  In this very good paper, the objective is to p...          0.441847  \n",
       "3  This paper proposes a learning method (PIB) ba...          0.737839  \n",
       "4  This paper presents a new way of training stoc...          0.752842  "
      ]
     },
     "execution_count": 14,
     "metadata": {},
     "output_type": "execute_result"
    }
   ],
   "source": [
    "raw_data.head()"
   ]
  },
  {
   "cell_type": "code",
   "execution_count": 15,
   "metadata": {},
   "outputs": [],
   "source": [
    "raw_data.to_csv('reviews_scores.csv', index=False)"
   ]
  },
  {
   "cell_type": "code",
   "execution_count": null,
   "metadata": {},
   "outputs": [],
   "source": []
  }
 ],
 "metadata": {
  "kernelspec": {
   "display_name": "Python 3",
   "language": "python",
   "name": "python3"
  },
  "language_info": {
   "codemirror_mode": {
    "name": "ipython",
    "version": 3
   },
   "file_extension": ".py",
   "mimetype": "text/x-python",
   "name": "python",
   "nbconvert_exporter": "python",
   "pygments_lexer": "ipython3",
   "version": "3.8.3"
  }
 },
 "nbformat": 4,
 "nbformat_minor": 4
}
